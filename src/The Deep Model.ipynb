{
 "cells": [
  {
   "cell_type": "code",
   "execution_count": 1,
   "id": "9d73cbe8",
   "metadata": {},
   "outputs": [],
   "source": [
    "from tqdm import tqdm\n",
    "import random"
   ]
  },
  {
   "cell_type": "code",
   "execution_count": 2,
   "id": "91b9371c",
   "metadata": {},
   "outputs": [],
   "source": [
    "import sys\n",
    "import torch\n",
    "import numpy as np\n",
    "from torch.utils import data\n",
    "from torch import nn\n",
    "import pickle\n",
    "from torch.nn import functional as F\n",
    "from dataset import GTZAN\n",
    "from datetime import datetime\n",
    "from tqdm import tqdm\n",
    "from torchmetrics import Accuracy\n",
    "import matplotlib.pyplot as plt\n",
    "\n",
    "\n",
    "DEBUG = True\n",
    "\n",
    "dataset = GTZAN('/Users/zs18656/Documents/ADL DW COPY/data/train_trimmed.pkl')\n",
    "dataset_val = GTZAN('/Users/zs18656/Documents/ADL DW COPY/data/val_trimmed.pkl')"
   ]
  },
  {
   "cell_type": "code",
   "execution_count": 3,
   "id": "b3d61c8b",
   "metadata": {},
   "outputs": [],
   "source": [
    "N, N_val = len(dataset), len(dataset_val)\n",
    "filename, spectrogram, label, samples = dataset[0]"
   ]
  },
  {
   "cell_type": "code",
   "execution_count": 4,
   "id": "6a029191",
   "metadata": {},
   "outputs": [],
   "source": [
    "class CNN(nn.Module):\n",
    "    def __init__(self, height: int, width: int, channels: int, class_count: int):\n",
    "        super().__init__()\n",
    "        self.input_shape = (height, width, channels)\n",
    "        self.class_count = class_count\n",
    "\n",
    "        self.conv11 = nn.Conv2d(\n",
    "            in_channels = self.input_shape[2], out_channels= 16, kernel_size=(10, 23),\n",
    "            padding='same')\n",
    "        self.conv12 = nn.Conv2d(\n",
    "            in_channels= self.input_shape[2], out_channels= 16,kernel_size=(21, 20),\n",
    "            padding= 'same')\n",
    "        \n",
    "        self.initialise_layer(self.conv11)\n",
    "        self.pool11 = nn.MaxPool2d(kernel_size=(2, 2)) #Check stride\n",
    "        self.initialise_layer(self.conv12)\n",
    "        self.pool12 = nn.MaxPool2d(kernel_size=(2, 2))\n",
    "        \n",
    "        self.conv21 = nn.Conv2d(\n",
    "            in_channels = 16, out_channels= 32, kernel_size=(5, 11),\n",
    "            padding='same')\n",
    "        self.conv22 = nn.Conv2d(\n",
    "            in_channels= 16, out_channels= 32, kernel_size=(10, 5),\n",
    "            padding= 'same')\n",
    "        \n",
    "        self.initialise_layer(self.conv21)\n",
    "        self.pool21 = nn.MaxPool2d(kernel_size=(2, 2)) #Check stride\n",
    "        self.initialise_layer(self.conv22)\n",
    "        self.pool22 = nn.MaxPool2d(kernel_size=(2, 2))\n",
    "        \n",
    "        self.conv31 = nn.Conv2d(\n",
    "            in_channels = 32, out_channels= 64, kernel_size=(3, 5),\n",
    "            padding='same')\n",
    "        self.conv32 = nn.Conv2d(\n",
    "            in_channels= 32, out_channels= 64, kernel_size=(5, 3),\n",
    "            padding= 'same')\n",
    "        \n",
    "        self.initialise_layer(self.conv31)\n",
    "        self.pool31 = nn.MaxPool2d(kernel_size=(2, 2)) #Check stride\n",
    "        self.initialise_layer(self.conv32)\n",
    "        self.pool32 = nn.MaxPool2d(kernel_size=(2, 2))\n",
    "        \n",
    "        self.conv41 = nn.Conv2d(\n",
    "            in_channels = 64, out_channels= 128, kernel_size=(2, 4),\n",
    "            padding='same')\n",
    "        self.conv42 = nn.Conv2d(\n",
    "            in_channels= 64, out_channels= 128,kernel_size=(4, 2),\n",
    "            padding= 'same')\n",
    "        \n",
    "        self.initialise_layer(self.conv41)\n",
    "        self.pool41 = nn.MaxPool2d(kernel_size=(1, 5)) #Check stride\n",
    "        self.initialise_layer(self.conv42)\n",
    "        self.pool42 = nn.MaxPool2d(kernel_size=(5, 1))\n",
    "        \n",
    "        self.fc1 = nn.Linear(5120, 200)\n",
    "        self.initialise_layer(self.fc1)\n",
    "        self.fc2 = nn.Linear(200, 10)\n",
    "        self.initialise_layer(self.fc2)\n",
    "\n",
    "    def forward(self, images: torch.Tensor) -> torch.Tensor:\n",
    "        x_left, x_right = F.relu(self.conv11(images)), F.relu(self.conv12(images))\n",
    "        x_left, x_right = self.pool11(x_left), self.pool12(x_right)\n",
    "         \n",
    "        x_left, x_right = F.relu(self.conv21(x_left)), F.relu(self.conv22(x_right))         \n",
    "        x_left, x_right = self.pool21(x_left), self.pool22(x_right)\n",
    "\n",
    "        x_left, x_right = F.relu(self.conv31(x_left)), F.relu(self.conv32(x_right))\n",
    "        x_left, x_right = self.pool31(x_left), self.pool32(x_right)\n",
    "         \n",
    "        x_left, x_right = F.relu(self.conv41(x_left)), F.relu(self.conv42(x_right))\n",
    "        x_left, x_right = self.pool41(x_left), self.pool42(x_right)\n",
    "         \n",
    "        x_left = torch.flatten(x_left, start_dim = 1)\n",
    "        x_left = torch.flatten(x_left)\n",
    "        \n",
    "        x_right = torch.flatten(x_right, start_dim = 1)\n",
    "        x_right = torch.flatten(x_right)\n",
    "        \n",
    "        x_conc = torch.cat((x_left, x_right))\n",
    "        x_conc = F.relu(self.fc1(x_conc))\n",
    "        x_conc = self.fc2(x_conc)\n",
    "        return x_conc\n",
    "\n",
    "    @staticmethod\n",
    "    def initialise_layer(layer):\n",
    "        if hasattr(layer, \"bias\"):\n",
    "            nn.init.zeros_(layer.bias)\n",
    "        if hasattr(layer, \"weight\"):\n",
    "            nn.init.kaiming_normal_(layer.weight)\n",
    "            \n",
    "def get_batch_ids(N, batch_size):\n",
    "    sample_ids = np.arange(N)\n",
    "    random.shuffle(sample_ids)\n",
    "    num_batchs = N/batch_size\n",
    "\n",
    "    sampled_n = 0\n",
    "    batch_ids = []\n",
    "    for batch in range(int(num_batchs)):\n",
    "        batch_i = sample_ids[batch*batch_size:(batch+1)*batch_size]\n",
    "        sampled_n += batch_size\n",
    "        batch_ids.append(batch_i)\n",
    "    if num_batchs != int(num_batchs):\n",
    "        batch_i = (sample_ids[sampled_n:])\n",
    "        batch_ids.append(batch_i)\n",
    "    return batch_ids"
   ]
  },
  {
   "cell_type": "code",
   "execution_count": 5,
   "id": "bd622dd7",
   "metadata": {},
   "outputs": [
    {
     "name": "stdout",
     "output_type": "stream",
     "text": [
      "Training Data Size:  200\n",
      "Testing Data Size:  100\n"
     ]
    }
   ],
   "source": [
    "print('Training Data Size: ', N)\n",
    "print('Testing Data Size: ', N_val)"
   ]
  },
  {
   "cell_type": "code",
   "execution_count": 6,
   "id": "119c42bd",
   "metadata": {},
   "outputs": [],
   "source": [
    "model = CNN(height=80, width=80, channels=1, class_count=10)\n",
    "criterion = nn.CrossEntropyLoss()\n",
    "optimizer = torch.optim.Adam(model.parameters(), lr=0.001)#, betas=(0.9, 0.999), eps=1e-08)\n",
    "losses, losses_val = [], []\n",
    "n_classes = 10\n",
    "epoch_N = 300\n",
    "batch_size = 50"
   ]
  },
  {
   "cell_type": "code",
   "execution_count": 7,
   "id": "218816e9",
   "metadata": {},
   "outputs": [
    {
     "name": "stderr",
     "output_type": "stream",
     "text": [
      "  0%|                                                   | 0/300 [00:00<?, ?it/s]/opt/anaconda3/envs/RLenv/lib/python3.10/site-packages/torch/nn/modules/conv.py:459: UserWarning: Using padding='same' with even kernel lengths and odd dilation may require a zero-padded copy of the input be created (Triggered internally at /Users/runner/work/pytorch/pytorch/pytorch/aten/src/ATen/native/Convolution.cpp:896.)\n",
      "  return F.conv2d(input, weight, bias, self.stride,\n",
      "[W NNPACK.cpp:53] Could not initialize NNPACK! Reason: Unsupported hardware.\n",
      "100%|█████████████████████████████████████████| 300/300 [54:12<00:00, 10.84s/it]\n"
     ]
    }
   ],
   "source": [
    "losses, val_losses = [], []\n",
    "epoch_preds, val_preds = [], []\n",
    "epoch_trues = []\n",
    "\n",
    "for epoch in tqdm(range(epoch_N)):\n",
    "#     TRAINING DATA EVALUATION + TRAINING\n",
    "#     epoch_loss = 0\n",
    "    class_preds, class_trues = [], []\n",
    "    \n",
    "    for batch_ids in get_batch_ids(N, batch_size):\n",
    "        batch_loss = 0\n",
    "        for i in batch_ids:\n",
    "            label_i_tensor = torch.zeros(n_classes)\n",
    "            filename_i, spectrogram_i, label_i, samples_i = dataset[i]\n",
    "            label_i_tensor[label_i] = 1\n",
    "            pred = model.forward(spectrogram_i)\n",
    "            batch_loss += criterion(pred, label_i_tensor)\n",
    "\n",
    "            class_preds.append(torch.argmax(pred))\n",
    "            class_trues.append(label_i)\n",
    "\n",
    "        batch_loss.backward()\n",
    "        # update weights\n",
    "        optimizer.step()\n",
    "        # zero gradients\n",
    "        optimizer.zero_grad()\n",
    "        losses.append(batch_loss)\n",
    "    epoch_preds.append(class_preds)\n",
    "    epoch_trues.append(class_trues)\n",
    "    \n",
    "#     VALIDATION DATA EVALUATION\n",
    "    val_loss = 0\n",
    "    class_preds, val_trues = [], []\n",
    "    for i in range(N_val):\n",
    "        label_i_tensor = torch.zeros(n_classes)\n",
    "        filename_i, spectrogram_i, label_i, samples_i = dataset_val[i]\n",
    "        label_i_tensor[label_i] = 1\n",
    "        with torch.no_grad():\n",
    "            pred = model.forward(spectrogram_i)\n",
    "        val_loss += criterion(pred, label_i_tensor)\n",
    "        \n",
    "        class_preds.append(torch.argmax(pred))\n",
    "        val_trues.append(label_i)\n",
    "        \n",
    "    val_losses.append(val_loss)\n",
    "    val_preds.append(class_preds)"
   ]
  },
  {
   "cell_type": "code",
   "execution_count": 8,
   "id": "f4a41e1f",
   "metadata": {},
   "outputs": [
    {
     "name": "stdout",
     "output_type": "stream",
     "text": [
      "final train loss:  0.060085185\n",
      "final test loss:  993.0132\n"
     ]
    },
    {
     "data": {
      "image/png": "[encoded data removed]",
      "text/plain": [
       "<Figure size 1000x400 with 2 Axes>"
      ]
     },
     "metadata": {},
     "output_type": "display_data"
    }
   ],
   "source": [
    "TC_loss_tr, TC_loss_te = [], []\n",
    "for i in losses:\n",
    "    TC_loss_tr.append(i.detach().numpy())\n",
    "for i in val_losses:\n",
    "    TC_loss_te.append(i.detach().numpy())\n",
    "\n",
    "fig, axes = plt.subplots(nrows=1, ncols=2, figsize=(10, 4))\n",
    "axes[0].plot((TC_loss_tr), label = 'train')\n",
    "axes[1].plot((TC_loss_te), label = 'test')\n",
    "axes[0].legend()\n",
    "axes[1].legend()\n",
    "\n",
    "n_batchs = int(N/batch_size)\n",
    "print('final train loss: ', np.sum(TC_loss_tr[-n_batchs:-1]))\n",
    "print('final test loss: ', np.sum(TC_loss_te[-n_batchs:-1]))"
   ]
  },
  {
   "cell_type": "code",
   "execution_count": 9,
   "id": "df003971",
   "metadata": {
    "scrolled": true
   },
   "outputs": [],
   "source": [
    "epoch_accs = []\n",
    "for epoch in range(epoch_N):\n",
    "    hits = 0\n",
    "    for i in range(N):\n",
    "        pred_i = epoch_preds[epoch][i].numpy()\n",
    "        true_i = epoch_trues[epoch][i]\n",
    "        if int(pred_i) == int(true_i):\n",
    "            hits += 1\n",
    "    epoch_accs.append(hits/N)\n",
    "\n",
    "val_accs = []\n",
    "for epoch in range(epoch_N):\n",
    "    hits = 0\n",
    "    for i in range(N_val):\n",
    "        pred_i = val_preds[epoch][i].numpy()\n",
    "        if pred_i == val_trues[i]:\n",
    "            hits += 1\n",
    "#             print(hits)\n",
    "    val_accs.append(hits/N_val)"
   ]
  },
  {
   "cell_type": "code",
   "execution_count": 10,
   "id": "d19ab737",
   "metadata": {},
   "outputs": [
    {
     "name": "stdout",
     "output_type": "stream",
     "text": [
      "Train Acc:  1.0\n",
      "Test Acc:  0.38\n"
     ]
    },
    {
     "data": {
      "image/png": "[encoded data removed]",
      "text/plain": [
       "<Figure size 640x480 with 1 Axes>"
      ]
     },
     "metadata": {},
     "output_type": "display_data"
    }
   ],
   "source": [
    "plt.plot(epoch_accs, label = 'Train')\n",
    "plt.plot(val_accs, label = 'Test')\n",
    "plt.ylabel('Accuracy')\n",
    "plt.xlabel('Epoch')\n",
    "plt.legend()\n",
    "print('Train Acc: ', epoch_accs[-1])\n",
    "print('Test Acc: ', val_accs[-1])"
   ]
  },
  {
   "cell_type": "code",
   "execution_count": null,
   "id": "9e47d7bd",
   "metadata": {},
   "outputs": [],
   "source": [
    "# losses, val_losses = [], []\n",
    "# epoch_preds, val_preds = [], []\n",
    "\n",
    "# for epoch in tqdm(range(epoch_N)):\n",
    "# #     TRAINING DATA EVALUATION + TRAINING\n",
    "#     epoch_loss = 0\n",
    "#     class_preds, class_trues = [], []\n",
    "    \n",
    "#     for i in range(N):\n",
    "#         label_i_tensor = torch.zeros(n_classes)\n",
    "#         filename_i, spectrogram_i, label_i, samples_i = dataset[i]\n",
    "#         label_i_tensor[label_i] = 1\n",
    "#         pred = model.forward(spectrogram_i)\n",
    "#         epoch_loss += criterion(pred, label_i_tensor)\n",
    "        \n",
    "#         class_preds.append(torch.argmax(pred))\n",
    "#         class_trues.append(label_i)\n",
    "\n",
    "#     epoch_loss.backward()\n",
    "#     # update weights\n",
    "#     optimizer.step()\n",
    "#     # zero gradients\n",
    "#     optimizer.zero_grad()\n",
    "#     losses.append(epoch_loss)\n",
    "#     epoch_preds.append(class_preds)\n",
    "    \n",
    "# #     VALIDATION DATA EVALUATION\n",
    "#     val_loss = 0\n",
    "#     class_preds, val_trues = [], []\n",
    "#     for i in range(N_val):\n",
    "#         label_i_tensor = torch.zeros(n_classes)\n",
    "#         filename_i, spectrogram_i, label_i, samples_i = dataset_val[i]\n",
    "#         label_i_tensor[label_i] = 1\n",
    "#         with torch.no_grad():\n",
    "#             pred = model.forward(spectrogram_i)\n",
    "#         val_loss += criterion(pred, label_i_tensor)\n",
    "        \n",
    "#         class_preds.append(torch.argmax(pred))\n",
    "#         val_trues.append(label_i)\n",
    "        \n",
    "#     val_losses.append(val_loss)\n",
    "#     val_preds.append(class_preds)"
   ]
  }
 ],
 "metadata": {
  "kernelspec": {
   "display_name": "Python [conda env:RLenv] *",
   "language": "python",
   "name": "conda-env-RLenv-py"
  },
  "language_info": {
   "codemirror_mode": {
    "name": "ipython",
    "version": 3
   },
   "file_extension": ".py",
   "mimetype": "text/x-python",
   "name": "python",
   "nbconvert_exporter": "python",
   "pygments_lexer": "ipython3",
   "version": "3.10.6"
  }
 },
 "nbformat": 4,
 "nbformat_minor": 5
}
